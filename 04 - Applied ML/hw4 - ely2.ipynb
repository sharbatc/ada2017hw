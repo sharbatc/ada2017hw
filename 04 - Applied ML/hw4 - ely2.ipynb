{
 "cells": [
  {
   "cell_type": "code",
   "execution_count": 1,
   "metadata": {
    "collapsed": true
   },
   "outputs": [],
   "source": [
    "import pandas as pd\n",
    "import numpy as np\n",
    "import matplotlib.pyplot as plt\n",
    "\n",
    "from sklearn import linear_model\n",
    "from sklearn.linear_model import LinearRegression, LogisticRegression\n",
    "from sklearn.preprocessing import OneHotEncoder\n",
    "from sklearn.model_selection import cross_val_predict\n",
    "from sklearn.model_selection import cross_val_score\n",
    "\n",
    "from pandas.plotting import scatter_matrix\n",
    "\n",
    "%matplotlib inline\n",
    "\n",
    "import networkx as nx\n",
    "from networkx.algorithms import bipartite"
   ]
  },
  {
   "cell_type": "markdown",
   "metadata": {},
   "source": [
    "## 1. Propensity score matching"
   ]
  },
  {
   "cell_type": "code",
   "execution_count": 2,
   "metadata": {
    "collapsed": false
   },
   "outputs": [
    {
     "data": {
      "text/html": [
       "<div>\n",
       "<style>\n",
       "    .dataframe thead tr:only-child th {\n",
       "        text-align: right;\n",
       "    }\n",
       "\n",
       "    .dataframe thead th {\n",
       "        text-align: left;\n",
       "    }\n",
       "\n",
       "    .dataframe tbody tr th {\n",
       "        vertical-align: top;\n",
       "    }\n",
       "</style>\n",
       "<table border=\"1\" class=\"dataframe\">\n",
       "  <thead>\n",
       "    <tr style=\"text-align: right;\">\n",
       "      <th></th>\n",
       "      <th>id</th>\n",
       "      <th>treat</th>\n",
       "      <th>age</th>\n",
       "      <th>educ</th>\n",
       "      <th>black</th>\n",
       "      <th>hispan</th>\n",
       "      <th>married</th>\n",
       "      <th>nodegree</th>\n",
       "      <th>re74</th>\n",
       "      <th>re75</th>\n",
       "      <th>re78</th>\n",
       "    </tr>\n",
       "  </thead>\n",
       "  <tbody>\n",
       "    <tr>\n",
       "      <th>0</th>\n",
       "      <td>NSW1</td>\n",
       "      <td>1</td>\n",
       "      <td>37</td>\n",
       "      <td>11</td>\n",
       "      <td>1</td>\n",
       "      <td>0</td>\n",
       "      <td>1</td>\n",
       "      <td>1</td>\n",
       "      <td>0.0</td>\n",
       "      <td>0.0</td>\n",
       "      <td>9930.0460</td>\n",
       "    </tr>\n",
       "    <tr>\n",
       "      <th>1</th>\n",
       "      <td>NSW2</td>\n",
       "      <td>1</td>\n",
       "      <td>22</td>\n",
       "      <td>9</td>\n",
       "      <td>0</td>\n",
       "      <td>1</td>\n",
       "      <td>0</td>\n",
       "      <td>1</td>\n",
       "      <td>0.0</td>\n",
       "      <td>0.0</td>\n",
       "      <td>3595.8940</td>\n",
       "    </tr>\n",
       "    <tr>\n",
       "      <th>2</th>\n",
       "      <td>NSW3</td>\n",
       "      <td>1</td>\n",
       "      <td>30</td>\n",
       "      <td>12</td>\n",
       "      <td>1</td>\n",
       "      <td>0</td>\n",
       "      <td>0</td>\n",
       "      <td>0</td>\n",
       "      <td>0.0</td>\n",
       "      <td>0.0</td>\n",
       "      <td>24909.4500</td>\n",
       "    </tr>\n",
       "    <tr>\n",
       "      <th>3</th>\n",
       "      <td>NSW4</td>\n",
       "      <td>1</td>\n",
       "      <td>27</td>\n",
       "      <td>11</td>\n",
       "      <td>1</td>\n",
       "      <td>0</td>\n",
       "      <td>0</td>\n",
       "      <td>1</td>\n",
       "      <td>0.0</td>\n",
       "      <td>0.0</td>\n",
       "      <td>7506.1460</td>\n",
       "    </tr>\n",
       "    <tr>\n",
       "      <th>4</th>\n",
       "      <td>NSW5</td>\n",
       "      <td>1</td>\n",
       "      <td>33</td>\n",
       "      <td>8</td>\n",
       "      <td>1</td>\n",
       "      <td>0</td>\n",
       "      <td>0</td>\n",
       "      <td>1</td>\n",
       "      <td>0.0</td>\n",
       "      <td>0.0</td>\n",
       "      <td>289.7899</td>\n",
       "    </tr>\n",
       "  </tbody>\n",
       "</table>\n",
       "</div>"
      ],
      "text/plain": [
       "     id  treat  age  educ  black  hispan  married  nodegree  re74  re75  \\\n",
       "0  NSW1      1   37    11      1       0        1         1   0.0   0.0   \n",
       "1  NSW2      1   22     9      0       1        0         1   0.0   0.0   \n",
       "2  NSW3      1   30    12      1       0        0         0   0.0   0.0   \n",
       "3  NSW4      1   27    11      1       0        0         1   0.0   0.0   \n",
       "4  NSW5      1   33     8      1       0        0         1   0.0   0.0   \n",
       "\n",
       "         re78  \n",
       "0   9930.0460  \n",
       "1   3595.8940  \n",
       "2  24909.4500  \n",
       "3   7506.1460  \n",
       "4    289.7899  "
      ]
     },
     "execution_count": 2,
     "metadata": {},
     "output_type": "execute_result"
    }
   ],
   "source": [
    "data = pd.read_csv('lalonde.csv')\n",
    "data.head()"
   ]
  },
  {
   "cell_type": "markdown",
   "metadata": {},
   "source": [
    "Observational study\n",
    "We have 2 groups: \"treated\" vs \"control\"\n",
    "The question is: was the treatment effective on the worker? That is, did it improved his earnings? did it depend on any of the other variables? (age, origin, marriage, education)\n",
    "We need a way to measure effectiveness based on change in earnings\n",
    "\n",
    "treatment assignment: Z = 1 (treated) and Z = 0 (control) -> treat\n",
    "response if subject is treated: r_t -> how re78 differs from re74 and re75 (Z=1)\n",
    "response if subject is control: r_c -> how re78 differs from re74 and re75 (Z=0)\n",
    "observed covariates (features x) -> age, educ, black, hispan, married, nodegree\n",
    "unobserved covariates ->  Naive model: exclude them because assume “Only observed variables determine treatment assignment”. Bad, naive model is almost never true. -> Use propensity score.\n",
    "\"Adjustments using a model attempt to compare people who are not directly\n",
    "comparable — people of somewhat different ages or smoking habits — removing\n",
    "these differences using a mathematical structure that has elements estimated from\n",
    "the data at hand.\"\n",
    "\n",
    "\n",
    "Propensity score -> \"if naive model is true, it equals the probability to treat\"\n",
    "e(x) = P(Z=1|x)\n",
    "Computed by logistic regression. Features x, label Z\n",
    "\n"
   ]
  },
  {
   "cell_type": "code",
   "execution_count": 3,
   "metadata": {
    "collapsed": false
   },
   "outputs": [
    {
     "data": {
      "text/plain": [
       "(614, 11)"
      ]
     },
     "execution_count": 3,
     "metadata": {},
     "output_type": "execute_result"
    }
   ],
   "source": [
    "# print the shape of the DataFrame\n",
    "data.shape"
   ]
  },
  {
   "cell_type": "code",
   "execution_count": 4,
   "metadata": {
    "collapsed": false
   },
   "outputs": [
    {
     "data": {
      "text/plain": [
       "<matplotlib.legend.Legend at 0x11c4fc940>"
      ]
     },
     "execution_count": 4,
     "metadata": {},
     "output_type": "execute_result"
    },
    {
     "data": {
      "image/png": "[encoded data removed]",
      "text/plain": [
       "<matplotlib.figure.Figure at 0x119152128>"
      ]
     },
     "metadata": {},
     "output_type": "display_data"
    }
   ],
   "source": [
    "# Divide the dataset based on group (people who received the treatment vs control)\n",
    "treated = data[data['treat'] == 1].reset_index()\n",
    "control = data[data['treat'] == 0]\n",
    "\n",
    "fig = plt.figure(figsize=(15, 5))\n",
    "plt.subplot(1,2,1)\n",
    "# Boxplot of the two groups\n",
    "data_to_plot = [treated.loc[:,'re78'], control.loc[:,'re78']]\n",
    "plot = plt.boxplot(data_to_plot, 1)\n",
    "plt.ylabel('Income')\n",
    "plt.xlabel('Group')\n",
    "plt.xticks([1, 2], ['treated', 'control'])\n",
    "\n",
    "plt.subplot(1,2,2)\n",
    "plt.plot(treated.loc[:,'re78'],'.r')\n",
    "plt.plot(control.loc[:,'re78'],'.b') \n",
    "plt.ylabel('Income')\n",
    "plt.xlabel('Subjects')\n",
    "plt.legend(['Treated','Control'])"
   ]
  },
  {
   "cell_type": "markdown",
   "metadata": {},
   "source": [
    "Looking at the first plot, it seems that the treated people present a lower mean income (even though the difference in is not significant). From this first naive analysis it looks like the treatment is ineffective or even armful for incomes. But we should not forget . We should ask the following questions: \n",
    "* Do the two groups come from the same social status?\n",
    "* Where they having the same income before the treatment?\n",
    "\n",
    "The answer to both questions, as we are going to see soon, is no.\n",
    " \n",
    "Now, let's see how other pre-treatment variables influence the probability to be treated."
   ]
  },
  {
   "cell_type": "code",
   "execution_count": 5,
   "metadata": {
    "collapsed": false
   },
   "outputs": [
    {
     "data": {
      "text/plain": [
       "[<matplotlib.lines.Line2D at 0x11c8e1470>]"
      ]
     },
     "execution_count": 5,
     "metadata": {},
     "output_type": "execute_result"
    },
    {
     "data": {
      "image/png": "[encoded data removed]",
      "text/plain": [
       "<matplotlib.figure.Figure at 0x11c4b1a20>"
      ]
     },
     "metadata": {},
     "output_type": "display_data"
    }
   ],
   "source": [
    "# Plot all the variables, treated vs not treated\n",
    "fig = plt.figure(figsize=(15, 8))\n",
    "plt.subplot(3,2,1)\n",
    "plt.plot(data[data['treat'] == 0].loc[:,'educ'],'.r')\n",
    "plt.plot(data[data['treat'] == 1].loc[:,'educ'],'.b')\n",
    "plt.subplot(3,2,2)\n",
    "plt.plot(data[data['treat'] == 0].loc[:,'black'],'.r')\n",
    "plt.plot(data[data['treat'] == 1].loc[:,'black'],'.b')\n",
    "plt.subplot(3,2,3)\n",
    "plt.plot(data[data['treat'] == 0].loc[:,'hispan'],'.r')\n",
    "plt.plot(data[data['treat'] == 1].loc[:,'hispan'],'.b')\n",
    "plt.subplot(3,2,4)\n",
    "plt.plot(data[data['treat'] == 0].loc[:,'married'],'.r')\n",
    "plt.plot(data[data['treat'] == 1].loc[:,'married'],'.b')\n",
    "plt.subplot(3,2,5)\n",
    "plt.plot(data[data['treat'] == 0].loc[:,'age'],'.r')\n",
    "plt.plot(data[data['treat'] == 1].loc[:,'age'],'.b')\n",
    "plt.subplot(3,2,6)\n",
    "plt.plot(data[data['treat'] == 0].loc[:,'nodegree'],'.r')\n",
    "plt.plot(data[data['treat'] == 1].loc[:,'nodegree'],'.b')"
   ]
  },
  {
   "cell_type": "markdown",
   "metadata": {},
   "source": [
    "But if we look at the two groups seem to be **unbalanced**. For example, the majority of the treated people are young and black."
   ]
  },
  {
   "cell_type": "code",
   "execution_count": 6,
   "metadata": {
    "collapsed": false
   },
   "outputs": [
    {
     "data": {
      "text/plain": [
       "<matplotlib.legend.Legend at 0x11cf71390>"
      ]
     },
     "execution_count": 6,
     "metadata": {},
     "output_type": "execute_result"
    },
    {
     "data": {
      "image/png": "[encoded data removed]",
      "text/plain": [
       "<matplotlib.figure.Figure at 0x119152908>"
      ]
     },
     "metadata": {},
     "output_type": "display_data"
    }
   ],
   "source": [
    "# Plotting the resulting income for only black people, before and after the treatment\n",
    "fig = plt.figure(figsize=(15, 5))\n",
    "plt.subplot(1,2,1)\n",
    "data_to_plot = [treated[treated['black']==1].loc[:,'re78'], control[control['black']==1].loc[:,'re78']]\n",
    "plot = plt.boxplot(data_to_plot,1)\n",
    "plt.ylabel('Income')\n",
    "plt.xlabel('Group')\n",
    "plt.xticks([1, 2], ['treated', 'control'])\n",
    "\n",
    "plt.subplot(1,2,2)\n",
    "plt.plot(treated[treated['black']==1].loc[:,'re74'],'.b')\n",
    "plt.plot(control[control['black']==1].loc[:,'re74'],'.r')\n",
    "plt.ylabel('Income')\n",
    "plt.xlabel('Subjects')\n",
    "plt.legend(['Treated','Control'])"
   ]
  },
  {
   "cell_type": "markdown",
   "metadata": {},
   "source": [
    "Looking at the boxplots we can start noticing a certain difference in the means of the two groups. This supports the hypothesis that\n",
    "\n",
    "We are going to use the propensity score to match the nodes of a bipartite graph where the nodes correspond to the two groups."
   ]
  },
  {
   "cell_type": "code",
   "execution_count": 7,
   "metadata": {
    "collapsed": false
   },
   "outputs": [],
   "source": [
    "# We can't do a t-test because the populations have different sizes.\n",
    "#import scipy.stats as stats\n",
    "\n",
    "#We want to test if the medians differ significantly\n",
    "#stats.ttest_rel(a = treated[treated['black']==1].loc[:,'re78'],\n",
    " #               b = no_treated[no_treated['black']==1].loc[:,'re78'])"
   ]
  },
  {
   "cell_type": "markdown",
   "metadata": {},
   "source": [
    "## Propensity score\n",
    "At this point, we need to interpolate the data in order to obtain two populations of the same size. To do so, we are going to match the data the propensity score. Under the assumption that only observed variables determine treatment assignment, the propensity score represents the probability of receiving the treatment, given the pre-treatement features.\n",
    "\n",
    "Our pre-treatment features are: ..."
   ]
  },
  {
   "cell_type": "code",
   "execution_count": 8,
   "metadata": {
    "collapsed": false
   },
   "outputs": [],
   "source": [
    "#features and labels\n",
    "X = data.drop(['id', 'treat','re78'],axis=1)\n",
    "y = np.array(data.treat)"
   ]
  },
  {
   "cell_type": "code",
   "execution_count": 9,
   "metadata": {
    "collapsed": false
   },
   "outputs": [
    {
     "data": {
      "text/plain": [
       "LogisticRegression(C=1.0, class_weight=None, dual=False, fit_intercept=True,\n",
       "          intercept_scaling=1, max_iter=100, multi_class='ovr', n_jobs=1,\n",
       "          penalty='l2', random_state=None, solver='liblinear', tol=0.0001,\n",
       "          verbose=0, warm_start=False)"
      ]
     },
     "execution_count": 9,
     "metadata": {},
     "output_type": "execute_result"
    }
   ],
   "source": [
    "logistic = linear_model.LogisticRegression()  # create the model\n",
    "logistic.fit(X, y)  # train it"
   ]
  },
  {
   "cell_type": "markdown",
   "metadata": {},
   "source": [
    "Let's see how the model performs. For this we will implement an error function which balances the two classes."
   ]
  },
  {
   "cell_type": "code",
   "execution_count": 10,
   "metadata": {
    "collapsed": false
   },
   "outputs": [
    {
     "data": {
      "text/plain": [
       "0.31607761607761609"
      ]
     },
     "execution_count": 10,
     "metadata": {},
     "output_type": "execute_result"
    }
   ],
   "source": [
    "#Predict\n",
    "yhat = cross_val_predict(logistic, X, y, cv=5)\n",
    "\n",
    "#Check the class error\n",
    "classes = np.unique(y);\n",
    "err = np.zeros(len(classes));\n",
    "\n",
    "for c in range(len(classes)):\n",
    "    err[c] = sum((y!=yhat) & (y == classes[c]))/sum(y==classes[c]);\n",
    "\n",
    "err = np.mean(err);\n",
    "err"
   ]
  },
  {
   "cell_type": "code",
   "execution_count": 11,
   "metadata": {
    "collapsed": false
   },
   "outputs": [],
   "source": [
    "# Select only the probability to be treated (1)\n",
    "data['propens'] = logistic.predict_proba(X)[:,1]"
   ]
  },
  {
   "cell_type": "markdown",
   "metadata": {},
   "source": [
    "## Matching\n",
    "Use the propensity scores to match each data point from the treated group with exactly one data point from the control group, while ensuring that each data point from the control group is matched with at most one data point from the treated group.\n",
    "Maximize the similarity between matched subjects, as captured by their propensity scores. In other words, the sum (over all matched pairs) of absolute propensity-score differences between the two matched subjects should be minimized."
   ]
  },
  {
   "cell_type": "code",
   "execution_count": 12,
   "metadata": {
    "collapsed": false
   },
   "outputs": [],
   "source": [
    "B_treated = list(treated.id)\n",
    "B_control = list(control.id)"
   ]
  },
  {
   "cell_type": "code",
   "execution_count": 13,
   "metadata": {
    "collapsed": false
   },
   "outputs": [],
   "source": [
    "# let's create a graph\n",
    "B = nx.Graph()\n",
    "B.add_nodes_from(B_treated, bipartite=0)\n",
    "B.add_nodes_from(B_control, bipartite=1)"
   ]
  },
  {
   "cell_type": "code",
   "execution_count": 14,
   "metadata": {
    "collapsed": false
   },
   "outputs": [
    {
     "name": "stdout",
     "output_type": "stream",
     "text": [
      "CPU times: user 1min 40s, sys: 1.46 s, total: 1min 41s\n",
      "Wall time: 1min 41s\n"
     ]
    }
   ],
   "source": [
    "%%time\n",
    "for b_treated in B_treated:\n",
    "    for b_control in B_control:\n",
    "        wt =  -np.abs(data[data['id']==str(b_treated)].propens.values - data[data['id']==str(b_control)].propens.values)\n",
    "        B.add_edge(b_treated,b_control,weight = wt)"
   ]
  },
  {
   "cell_type": "code",
   "execution_count": null,
   "metadata": {
    "collapsed": false
   },
   "outputs": [
    {
     "name": "stdout",
     "output_type": "stream",
     "text": [
      "Nodes: 614\n",
      "Edges: 79365\n",
      "The total number of edges correspond to 185 (N treated) * 429 (N control)\n"
     ]
    }
   ],
   "source": [
    "print('Nodes:', len(B.nodes()))\n",
    "print('Edges:', len(B.edges()))\n",
    "print('The total number of edges correspond to', len(B_treated), '(N treated) *', len(B_control),  '(N control)')"
   ]
  },
  {
   "cell_type": "code",
   "execution_count": null,
   "metadata": {
    "collapsed": false
   },
   "outputs": [],
   "source": [
    "%%time\n",
    "d = nx.algorithms.max_weight_matching(B,maxcardinality=True)"
   ]
  },
  {
   "cell_type": "code",
   "execution_count": null,
   "metadata": {
    "collapsed": false
   },
   "outputs": [],
   "source": [
    "df = pd.DataFrame()\n",
    "for key in d.keys():\n",
    "    df = pd.concat([df, data[data['id']==key]])"
   ]
  },
  {
   "cell_type": "code",
   "execution_count": null,
   "metadata": {
    "collapsed": false
   },
   "outputs": [],
   "source": [
    "df_t = df[df['treat']==1]\n",
    "df_nt = df[df['treat']==0]\n",
    "data_to_plot = [df_t[data['nodegree']==0].loc[:,'re78'], df_nt[data['nodegree']==0].loc[:,'re78']]\n",
    "plot = plt.boxplot(data_to_plot)"
   ]
  }
 ],
 "metadata": {
  "kernelspec": {
   "display_name": "Python 3",
   "language": "python",
   "name": "python3"
  },
  "language_info": {
   "codemirror_mode": {
    "name": "ipython",
    "version": 3
   },
   "file_extension": ".py",
   "mimetype": "text/x-python",
   "name": "python",
   "nbconvert_exporter": "python",
   "pygments_lexer": "ipython3",
   "version": "3.6.0"
  }
 },
 "nbformat": 4,
 "nbformat_minor": 2
}

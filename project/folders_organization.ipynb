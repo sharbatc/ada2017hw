{
 "cells": [
  {
   "cell_type": "code",
   "execution_count": null,
   "metadata": {
    "collapsed": true
   },
   "outputs": [],
   "source": [
    "#Organize dataset \n",
    "import os\n",
    "import gzip\n",
    "import shutil\n",
    "\n",
    "basedir = '/Volumes/myFatDrive/ada_project/workingdir/PPMI/'\n",
    "task= '/ep2d_RESTING_STATE/'"
   ]
  },
  {
   "cell_type": "code",
   "execution_count": null,
   "metadata": {
    "collapsed": true
   },
   "outputs": [],
   "source": [
    "for fn in os.listdir(basedir):\n",
    "    if fn[0]=='3' or fn[0]=='4':\n",
    "        print(fn)\n",
    "        cnt = 0\n",
    "        for fn2 in os.listdir(basedir+fn+task):\n",
    "            if fn2[0]=='2':\n",
    "                cnt+=1\n",
    "                print(fn2)\n",
    "                os.makedirs(basedir+fn+task+fn2+'/anat')\n",
    "                os.makedirs(basedir+fn+task+fn2+'/func')\n",
    "                os.rename(basedir+fn+task+fn2+'/anat.nii', basedir+fn+task+fn2+'/anat/anat.nii')\n",
    "                os.rename(basedir+fn+task+fn2+'/rest.nii', basedir+fn+task+fn2+'/func/rest.nii')\n",
    "                anat_file_nii = basedir+fn+task+fn2+'/anat/anat.nii'\n",
    "                anat_file_niigz = basedir+fn+task+fn2+'/anat/anat.nii.gz'\n",
    "                with open(anat_file_nii, 'rb') as f_in, gzip.open(anat_file_niigz, 'wb') as f_out:\n",
    "                    shutil.copyfileobj(f_in, f_out)\n",
    "                if cnt>1:\n",
    "                    shutil.move(basedir+fn+task+fn2, basedir+fn+'_'+str(cnt)+task+fn2"
   ]
  },
  {
   "cell_type": "code",
   "execution_count": null,
   "metadata": {
    "collapsed": false
   },
   "outputs": [],
   "source": [
    "for fn in os.listdir(basedir):\n",
    "    if fn[0]=='3' or fn[0]=='4':\n",
    "        print(fn)\n",
    "        cnt = 0\n",
    "        for fn2 in os.listdir(basedir+fn+task):\n",
    "            if fn2[0]=='2':\n",
    "                os.makedirs(basedir+fn+task+fn2+'/anat/zipped')\n",
    "                shutil.move(basedir+fn+task+fn2+'/anat/anat.nii.gz', basedir+fn+task+fn2+'/anat/zipped/anat.nii.gz')\n",
    "                shutil.move(basedir+fn+task+fn2+'/anat', basedir+fn+task)\n",
    "                shutil.move(basedir+fn+task+fn2+'/func', basedir+fn+task)\n",
    "     "
   ]
  },
  {
   "cell_type": "code",
   "execution_count": 3,
   "metadata": {
    "collapsed": false
   },
   "outputs": [
    {
     "name": "stdout",
     "output_type": "stream",
     "text": [
      "3593_2 1\n",
      "3593_3 1\n",
      "3769 1\n",
      "4018 1\n",
      "4032 1\n"
     ]
    }
   ],
   "source": [
    "#Organize dataset \n",
    "import os\n",
    "import gzip\n",
    "import shutil\n",
    "basedir = '/Volumes/myFatDrive/ada_project/workingdir/PPMI/'\n",
    "task= '/ep2d_RESTING_STATE/'\n",
    "for fn in os.listdir(basedir):\n",
    "    cnt = 0\n",
    "    for fn2 in os.listdir(basedir+fn+task):\n",
    "        cnt+=1\n",
    "    if (cnt<3):\n",
    "        print(fn,cnt)\n"
   ]
  },
  {
   "cell_type": "code",
   "execution_count": null,
   "metadata": {
    "collapsed": true
   },
   "outputs": [],
   "source": []
  }
 ],
 "metadata": {
  "kernelspec": {
   "display_name": "Python 3",
   "language": "python",
   "name": "python3"
  },
  "language_info": {
   "codemirror_mode": {
    "name": "ipython",
    "version": 3
   },
   "file_extension": ".py",
   "mimetype": "text/x-python",
   "name": "python",
   "nbconvert_exporter": "python",
   "pygments_lexer": "ipython3",
   "version": "3.6.0"
  }
 },
 "nbformat": 4,
 "nbformat_minor": 2
}

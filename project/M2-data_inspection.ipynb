{
 "cells": [
  {
   "cell_type": "markdown",
   "metadata": {},
   "source": [
    "# fMRI analysis\n"
   ]
  },
  {
   "cell_type": "markdown",
   "metadata": {},
   "source": [
    "### Functional and anatomical images\n",
    "Functional magnetic resonance images(fMRI) consists of a sequence of 3D scans of the brain recorded over time. Here, we will refer to those images as \"functional\", while we will call \"anatomical\" those ones which don't have the time dimension (for example T1 or T2). These images are characterized by higher resolution and thus can be used as a reference for advanced image processing transformations.\n",
    "\n",
    "For each subject we have between 1 and 3 sessions of resting state (RS) fMRI scans. Resting state is a condition for which the recording is performed while the subject is not performing any task (at rest). In literature it has been shown that from this condition it is possible to detect networks of the brain that are always active. These networks, which have been found to be consistent in healthy subjects, are destroyed in many neurological diseases. \n",
    "\n",
    "Furthermore, for each subject we have different anatomical scans. In particular we will be interested in T1 scans that will be used to align and normalize the functional data.\n",
    "\n",
    "### Subjects\n",
    "Subjects can be divided in two groups: \n",
    "\n",
    "1) Parkinson's disease\n",
    "\n",
    "2) Control\n",
    "\n",
    "The number of subjects in the two groups is imbalanced, thus for our analysis we need to compensate the imbalance."
   ]
  },
  {
   "cell_type": "markdown",
   "metadata": {},
   "source": [
    "## Data conversion and normalzation\n",
    "Before pre-processing the data, the following steps have been performed through bash commands:\n",
    "\n",
    "1) Format conversion (from DICOM to nIfti):\n",
    "\n",
    "We run a .sh file containing the following code to perform the coversion:\n",
    "\n",
    "#!/bin/bash\n",
    "\n",
    "export PATH=\"/Applications/Neuroscience/MRIcron:$PATH\"\n",
    "\n",
    "cd $arg1  \n",
    "\n",
    "dcm2nii -a n -d n -e n -i n -p n -g n -o $arg2 *.dcm; \n",
    "\n",
    "arg1: where we have the DICOM data\n",
    "\n",
    "arg2: where we want to save the converted file\n",
    "\n",
    "2) Data structure organization (BIDS: http://bids.neuroimaging.io/)\n",
    "\n",
    "..."
   ]
  },
  {
   "cell_type": "markdown",
   "metadata": {},
   "source": [
    "## Data inspection\n",
    "Here we are going to inspect the nIfti files obtained through the format conversion.\n",
    "The names of the images have been saved in a csv file that we are going to import.\n",
    "\n",
    "Each nIfti image could be either a functional or anatomical MRI scan.\n"
   ]
  },
  {
   "cell_type": "markdown",
   "metadata": {},
   "source": []
  }
 ],
 "metadata": {
  "kernelspec": {
   "display_name": "Python 3",
   "language": "python",
   "name": "python3"
  },
  "language_info": {
   "codemirror_mode": {
    "name": "ipython",
    "version": 3
   },
   "file_extension": ".py",
   "mimetype": "text/x-python",
   "name": "python",
   "nbconvert_exporter": "python",
   "pygments_lexer": "ipython3",
   "version": "3.6.0"
  }
 },
 "nbformat": 4,
 "nbformat_minor": 2
}

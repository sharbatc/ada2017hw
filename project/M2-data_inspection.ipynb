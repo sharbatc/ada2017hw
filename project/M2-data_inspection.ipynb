{
 "cells": [
  {
   "cell_type": "markdown",
   "metadata": {},
   "source": [
    "# fMRI analysis\n"
   ]
  },
  {
   "cell_type": "markdown",
   "metadata": {},
   "source": [
    "### Functional and anatomical images\n",
    "Functional magnetic resonance images(fMRI) consists of a sequence of 3D scans of the brain recorded over time. Here, we will refer to those images as \"functional\", while we will call \"anatomical\" those ones which don't have the time dimension (for example T1 or T2). These images are characterized by higher resolution and thus can be used as a reference for advanced image processing transformations.\n",
    "\n",
    "For each subject we have between 1 and 3 sessions of resting state (RS) fMRI scans. Resting state is a condition for which the recording is performed while the subject is not performing any task (at rest). In literature it has been shown that from this condition it is possible to detect networks of the brain that are always active. These networks, which have been found to be consistent in healthy subjects, are destroyed in many neurological diseases. \n",
    "\n",
    "Furthermore, for each subject we have different anatomical scans. In particular we will be interested in T1 scans that will be used to align and normalize the functional data.\n",
    "\n",
    "### Subjects\n",
    "Subjects can be divided in two groups: \n",
    "\n",
    "* Parkinson's disease\n",
    "\n",
    "* Control\n",
    "\n",
    "The number of subjects in the two groups is not balanced, thus for our analysis we need to compensate the unbalance."
   ]
  },
  {
   "cell_type": "markdown",
   "metadata": {},
   "source": [
    "## Data conversion and normalzation\n",
    "Before pre-processing the data, the following steps have been performed through bash commands:\n",
    "\n",
    "1) Format conversion (from DICOM to nIfTi):\n",
    "\n",
    "\n",
    "```\n",
    "dcm2niix -b y -f %i_%d_%t -o ./PPMI_formatted/ ./PPMI/\n",
    "``` \n",
    "\n",
    "\n",
    "2) Data structure organization (BIDS: http://bids.neuroimaging.io/)\n",
    "``` \n",
    "import os\n",
    "subjects = os.listdir()\n",
    "subjects = [subject[:4] for subject in subjects]\n",
    "subjects = list(set(subjects))\n",
    "for subject in subjects:\n",
    "\tos.system('mkdir ' +subject)\n",
    "\tos.system('mkdir ' +subject+'/func')\n",
    "\tos.system('mv '+subject+'* ' +subject+'/func')\n",
    "```"
   ]
  },
  {
   "cell_type": "markdown",
   "metadata": {},
   "source": [
    "## Data inspection\n",
    "Here we are going to inspect the nIfTi files obtained through the format conversion.\n",
    "The names of the images have been saved in a .txt file after the conversion was performed.\n",
    "\n",
    "Some of the files, characterized with the ending \"e1\" or \"e2\", have been duplicated during the conversion. For the moment we mark them as \"duplic\".\n",
    "\n",
    "Each nIfTi image could be either a functional or anatomical MRI scan and could belong to a patient or a control subject. To get this information we will use a .csv file that was provided when the data was\n"
   ]
  },
  {
   "cell_type": "code",
   "execution_count": 61,
   "metadata": {},
   "outputs": [],
   "source": [
    "import pandas as pd\n",
    "import matplotlib.pyplot as plt\n",
    "plt.style.use('seaborn')"
   ]
  },
  {
   "cell_type": "code",
   "execution_count": 2,
   "metadata": {},
   "outputs": [],
   "source": [
    "df_converted = pd.read_table('nii_files.txt', header=None)\n",
    "df_converted.columns = ['nIfTi files']"
   ]
  },
  {
   "cell_type": "code",
   "execution_count": 3,
   "metadata": {},
   "outputs": [],
   "source": [
    "# Save subjects IDs\n",
    "df_converted['Subject'] = df_converted['nIfTi files'].apply(lambda x: x[15:19])\n",
    "\n",
    "# Check when the string finishes with e2 / e1, that means that the file has been \n",
    "#replicated and flag those ones as \"repeated\", then save teh session code and the image type\n",
    "df_converted['Date'] = df_converted['nIfTi files'].apply(lambda x: x[-21:-13] if x[-6] == 'e' in str(x) else x[-18:-10])\n",
    "df_converted['Duplic'] = df_converted['nIfTi files'].apply(lambda x: 1 if x[-6] == 'e' in str(x) else 0)\n",
    "df_converted['Description'] = df_converted['nIfTi files'].apply(lambda x: x[20:-22] if x[-6] == 'e' in str(x) else x[20:-19])\n"
   ]
  },
  {
   "cell_type": "code",
   "execution_count": 4,
   "metadata": {},
   "outputs": [
    {
     "data": {
      "text/html": [
       "<div>\n",
       "<style>\n",
       "    .dataframe thead tr:only-child th {\n",
       "        text-align: right;\n",
       "    }\n",
       "\n",
       "    .dataframe thead th {\n",
       "        text-align: left;\n",
       "    }\n",
       "\n",
       "    .dataframe tbody tr th {\n",
       "        vertical-align: top;\n",
       "    }\n",
       "</style>\n",
       "<table border=\"1\" class=\"dataframe\">\n",
       "  <thead>\n",
       "    <tr style=\"text-align: right;\">\n",
       "      <th></th>\n",
       "      <th>Subject</th>\n",
       "      <th>Date</th>\n",
       "      <th>Duplic</th>\n",
       "      <th>Description</th>\n",
       "    </tr>\n",
       "  </thead>\n",
       "  <tbody>\n",
       "    <tr>\n",
       "      <th>0</th>\n",
       "      <td>3102</td>\n",
       "      <td>20101123</td>\n",
       "      <td>0</td>\n",
       "      <td>Axial_PD-T2_TSE</td>\n",
       "    </tr>\n",
       "    <tr>\n",
       "      <th>1</th>\n",
       "      <td>3102</td>\n",
       "      <td>20101123</td>\n",
       "      <td>1</td>\n",
       "      <td>Axial_PD-T2_TSE</td>\n",
       "    </tr>\n",
       "    <tr>\n",
       "      <th>2</th>\n",
       "      <td>3102</td>\n",
       "      <td>20111121</td>\n",
       "      <td>0</td>\n",
       "      <td>Axial_PD-T2_TSE</td>\n",
       "    </tr>\n",
       "    <tr>\n",
       "      <th>3</th>\n",
       "      <td>3102</td>\n",
       "      <td>20111121</td>\n",
       "      <td>1</td>\n",
       "      <td>Axial_PD-T2_TSE</td>\n",
       "    </tr>\n",
       "    <tr>\n",
       "      <th>4</th>\n",
       "      <td>3102</td>\n",
       "      <td>20101123</td>\n",
       "      <td>0</td>\n",
       "      <td>MPRAGE_GRAPPA</td>\n",
       "    </tr>\n",
       "  </tbody>\n",
       "</table>\n",
       "</div>"
      ],
      "text/plain": [
       "  Subject      Date  Duplic      Description\n",
       "0    3102  20101123       0  Axial_PD-T2_TSE\n",
       "1    3102  20101123       1  Axial_PD-T2_TSE\n",
       "2    3102  20111121       0  Axial_PD-T2_TSE\n",
       "3    3102  20111121       1  Axial_PD-T2_TSE\n",
       "4    3102  20101123       0    MPRAGE_GRAPPA"
      ]
     },
     "execution_count": 4,
     "metadata": {},
     "output_type": "execute_result"
    }
   ],
   "source": [
    "df_converted = df_converted.drop(['nIfTi files'], axis=1)\n",
    "df_converted.head()"
   ]
  },
  {
   "cell_type": "markdown",
   "metadata": {},
   "source": [
    "Now we can check how many types of images we have:"
   ]
  },
  {
   "cell_type": "code",
   "execution_count": 5,
   "metadata": {},
   "outputs": [
    {
     "data": {
      "text/plain": [
       "array(['Axial_PD-T2_TSE', 'MPRAGE_GRAPPA', 'MPRAGE_GRAPPA2',\n",
       "       'Axial_PD-T2_TSE_FS', 'MPRAGE_T1_SAG', 'ep2d_RESTING_STATE',\n",
       "       'FLAIR_AXIAL', 'MPRAGE_GRAPPA_2', 'Axial_PD-T2_TSE_FS_201',\n",
       "       'Axial_PD-T2_TSE_FS_', 'AXIAL_PD-T2_TSE_FS', 'MPRAGE_GRAPPA_ADNI',\n",
       "       'Axial_PD-T2_TSE_2013', 'Axial_PD-T2_TSE_2013031',\n",
       "       'MPRAGE_GRAPPA_ND', 'Axial_PD-T2_TSE_FS_2012',\n",
       "       'Axial_PD-T2_TSE_FS_20121116', 'Axial_PD-T2_TSE_FS_20121',\n",
       "       'Axial_PD-T2_TSE_FS_20141128', 'Axial_PD-T2_TSE_FS_20141',\n",
       "       'MPRAGE_GRAPPA_', 'ep2d_bold_rest', 'AXIAL_PD-T2_TSE_FS_201',\n",
       "       'MPRAGE_GRAPPA_ADNI_'], dtype=object)"
      ]
     },
     "execution_count": 5,
     "metadata": {},
     "output_type": "execute_result"
    }
   ],
   "source": [
    "df_converted['Description'].unique()"
   ]
  },
  {
   "cell_type": "markdown",
   "metadata": {},
   "source": [
    "They seem to be a lot, but in fact we can cathegorize them in three main groups:\n",
    "* anatomical T1 MRI (keywords: T1, MPRAGE)\n",
    "* anatomical T2 MRI (keyword: T2)\n",
    "* resting state functional MRI (keywords: ep2d, rest)\n",
    "We can set those keyworkds to flag the data. Also, we want to keep the information that tells us whether the image is axial, sagittal or complete."
   ]
  },
  {
   "cell_type": "code",
   "execution_count": 6,
   "metadata": {
    "collapsed": true
   },
   "outputs": [],
   "source": [
    "def convType(type1):\n",
    "    if 'T2' in type1:\n",
    "        if \"Axial\" in type1 or \"AXIAL\" in type1:\n",
    "            return \"T2_AX\"\n",
    "        else:\n",
    "            return \"T2\"\n",
    "    if 'MPRAGE' in type1:\n",
    "        if \"SAG\" in type1:\n",
    "            return \"T1_SAG\"\n",
    "        else:\n",
    "            return \"T1\"\n",
    "    if 'ep2d' in type1:\n",
    "        return 'Rest'\n",
    "    else:\n",
    "        return type1"
   ]
  },
  {
   "cell_type": "code",
   "execution_count": 7,
   "metadata": {},
   "outputs": [
    {
     "data": {
      "text/html": [
       "<div>\n",
       "<style>\n",
       "    .dataframe thead tr:only-child th {\n",
       "        text-align: right;\n",
       "    }\n",
       "\n",
       "    .dataframe thead th {\n",
       "        text-align: left;\n",
       "    }\n",
       "\n",
       "    .dataframe tbody tr th {\n",
       "        vertical-align: top;\n",
       "    }\n",
       "</style>\n",
       "<table border=\"1\" class=\"dataframe\">\n",
       "  <thead>\n",
       "    <tr style=\"text-align: right;\">\n",
       "      <th></th>\n",
       "      <th>Subject</th>\n",
       "      <th>Date</th>\n",
       "      <th>Duplic</th>\n",
       "      <th>Description</th>\n",
       "      <th>MRI type</th>\n",
       "    </tr>\n",
       "  </thead>\n",
       "  <tbody>\n",
       "    <tr>\n",
       "      <th>0</th>\n",
       "      <td>3102</td>\n",
       "      <td>20101123</td>\n",
       "      <td>0</td>\n",
       "      <td>Axial_PD-T2_TSE</td>\n",
       "      <td>T2_AX</td>\n",
       "    </tr>\n",
       "    <tr>\n",
       "      <th>1</th>\n",
       "      <td>3102</td>\n",
       "      <td>20101123</td>\n",
       "      <td>1</td>\n",
       "      <td>Axial_PD-T2_TSE</td>\n",
       "      <td>T2_AX</td>\n",
       "    </tr>\n",
       "    <tr>\n",
       "      <th>2</th>\n",
       "      <td>3102</td>\n",
       "      <td>20111121</td>\n",
       "      <td>0</td>\n",
       "      <td>Axial_PD-T2_TSE</td>\n",
       "      <td>T2_AX</td>\n",
       "    </tr>\n",
       "    <tr>\n",
       "      <th>3</th>\n",
       "      <td>3102</td>\n",
       "      <td>20111121</td>\n",
       "      <td>1</td>\n",
       "      <td>Axial_PD-T2_TSE</td>\n",
       "      <td>T2_AX</td>\n",
       "    </tr>\n",
       "    <tr>\n",
       "      <th>4</th>\n",
       "      <td>3102</td>\n",
       "      <td>20101123</td>\n",
       "      <td>0</td>\n",
       "      <td>MPRAGE_GRAPPA</td>\n",
       "      <td>T1</td>\n",
       "    </tr>\n",
       "  </tbody>\n",
       "</table>\n",
       "</div>"
      ],
      "text/plain": [
       "  Subject      Date  Duplic      Description MRI type\n",
       "0    3102  20101123       0  Axial_PD-T2_TSE    T2_AX\n",
       "1    3102  20101123       1  Axial_PD-T2_TSE    T2_AX\n",
       "2    3102  20111121       0  Axial_PD-T2_TSE    T2_AX\n",
       "3    3102  20111121       1  Axial_PD-T2_TSE    T2_AX\n",
       "4    3102  20101123       0    MPRAGE_GRAPPA       T1"
      ]
     },
     "execution_count": 7,
     "metadata": {},
     "output_type": "execute_result"
    }
   ],
   "source": [
    "df_converted['MRI type'] = df_converted['Description'].apply(lambda x: convType(x))\n",
    "df_converted.head()"
   ]
  },
  {
   "cell_type": "code",
   "execution_count": 8,
   "metadata": {},
   "outputs": [
    {
     "data": {
      "text/plain": [
       "array(['T2_AX', 'T1', 'T1_SAG', 'Rest', 'FLAIR_AXIAL'], dtype=object)"
      ]
     },
     "execution_count": 8,
     "metadata": {},
     "output_type": "execute_result"
    }
   ],
   "source": [
    "df_converted['MRI type'].unique()"
   ]
  },
  {
   "cell_type": "markdown",
   "metadata": {},
   "source": [
    "Now we look at the metadata file that includes some information on each subject and image"
   ]
  },
  {
   "cell_type": "code",
   "execution_count": 65,
   "metadata": {},
   "outputs": [],
   "source": [
    "df_metadata = pd.read_csv('final_collection_11_28_2017.csv')\n",
    "df_metadata = df_metadata.drop(['Format', 'Downloaded', 'Type', 'Visit'], axis=1)"
   ]
  },
  {
   "cell_type": "code",
   "execution_count": 66,
   "metadata": {},
   "outputs": [
    {
     "data": {
      "text/html": [
       "<div>\n",
       "<style>\n",
       "    .dataframe thead tr:only-child th {\n",
       "        text-align: right;\n",
       "    }\n",
       "\n",
       "    .dataframe thead th {\n",
       "        text-align: left;\n",
       "    }\n",
       "\n",
       "    .dataframe tbody tr th {\n",
       "        vertical-align: top;\n",
       "    }\n",
       "</style>\n",
       "<table border=\"1\" class=\"dataframe\">\n",
       "  <thead>\n",
       "    <tr style=\"text-align: right;\">\n",
       "      <th></th>\n",
       "      <th>Image Data ID</th>\n",
       "      <th>Subject</th>\n",
       "      <th>Group</th>\n",
       "      <th>Sex</th>\n",
       "      <th>Age</th>\n",
       "      <th>Modality</th>\n",
       "      <th>Description</th>\n",
       "      <th>Acq Date</th>\n",
       "    </tr>\n",
       "  </thead>\n",
       "  <tbody>\n",
       "    <tr>\n",
       "      <th>0</th>\n",
       "      <td>367450</td>\n",
       "      <td>4038</td>\n",
       "      <td>PD</td>\n",
       "      <td>F</td>\n",
       "      <td>71</td>\n",
       "      <td>MRI</td>\n",
       "      <td>Axial PD-T2 TSE FS</td>\n",
       "      <td>4/01/2013</td>\n",
       "    </tr>\n",
       "    <tr>\n",
       "      <th>1</th>\n",
       "      <td>430210</td>\n",
       "      <td>4038</td>\n",
       "      <td>PD</td>\n",
       "      <td>F</td>\n",
       "      <td>72</td>\n",
       "      <td>fMRI</td>\n",
       "      <td>ep2d_RESTING_STATE</td>\n",
       "      <td>4/21/2014</td>\n",
       "    </tr>\n",
       "    <tr>\n",
       "      <th>2</th>\n",
       "      <td>430211</td>\n",
       "      <td>4038</td>\n",
       "      <td>PD</td>\n",
       "      <td>F</td>\n",
       "      <td>72</td>\n",
       "      <td>MRI</td>\n",
       "      <td>MPRAGE GRAPPA</td>\n",
       "      <td>4/21/2014</td>\n",
       "    </tr>\n",
       "    <tr>\n",
       "      <th>3</th>\n",
       "      <td>430213</td>\n",
       "      <td>4038</td>\n",
       "      <td>PD</td>\n",
       "      <td>F</td>\n",
       "      <td>72</td>\n",
       "      <td>MRI</td>\n",
       "      <td>Axial PD-T2 TSE FS</td>\n",
       "      <td>4/21/2014</td>\n",
       "    </tr>\n",
       "    <tr>\n",
       "      <th>4</th>\n",
       "      <td>430215</td>\n",
       "      <td>4038</td>\n",
       "      <td>PD</td>\n",
       "      <td>F</td>\n",
       "      <td>72</td>\n",
       "      <td>MRI</td>\n",
       "      <td>Axial PD-T2 TSE FS</td>\n",
       "      <td>4/21/2014</td>\n",
       "    </tr>\n",
       "  </tbody>\n",
       "</table>\n",
       "</div>"
      ],
      "text/plain": [
       "   Image Data ID  Subject Group Sex  Age Modality         Description  \\\n",
       "0         367450     4038    PD   F   71      MRI  Axial PD-T2 TSE FS   \n",
       "1         430210     4038    PD   F   72     fMRI  ep2d_RESTING_STATE   \n",
       "2         430211     4038    PD   F   72      MRI       MPRAGE GRAPPA   \n",
       "3         430213     4038    PD   F   72      MRI  Axial PD-T2 TSE FS   \n",
       "4         430215     4038    PD   F   72      MRI  Axial PD-T2 TSE FS   \n",
       "\n",
       "    Acq Date  \n",
       "0  4/01/2013  \n",
       "1  4/21/2014  \n",
       "2  4/21/2014  \n",
       "3  4/21/2014  \n",
       "4  4/21/2014  "
      ]
     },
     "execution_count": 66,
     "metadata": {},
     "output_type": "execute_result"
    }
   ],
   "source": [
    "df_metadata.head()"
   ]
  },
  {
   "cell_type": "markdown",
   "metadata": {},
   "source": [
    "We begin with looking at some basic attributes of our dataset such as age distribution"
   ]
  },
  {
   "cell_type": "code",
   "execution_count": 67,
   "metadata": {},
   "outputs": [],
   "source": [
    "# To not have multiple instances of the same patients we only take the earliest image\n",
    "metadata_firstYear = df_metadata.drop_duplicates(subset=\"Subject\",keep='first')"
   ]
  },
  {
   "cell_type": "code",
   "execution_count": 68,
   "metadata": {},
   "outputs": [
    {
     "data": {
      "image/png": "[encoded data removed]",
      "text/plain": [
       "<matplotlib.figure.Figure at 0x119dd5320>"
      ]
     },
     "metadata": {},
     "output_type": "display_data"
    }
   ],
   "source": [
    "metadata_firstYear.hist(column='Age',bins=25)\n",
    "plt.show()"
   ]
  },
  {
   "cell_type": "markdown",
   "metadata": {},
   "source": [
    "How the dataset is devided between male and female.\n",
    "Note that PD is also more frequent among males in the general population"
   ]
  },
  {
   "cell_type": "code",
   "execution_count": 69,
   "metadata": {},
   "outputs": [
    {
     "data": {
      "image/png": "[encoded data removed]",
      "text/plain": [
       "<matplotlib.figure.Figure at 0x1196e4e48>"
      ]
     },
     "metadata": {},
     "output_type": "display_data"
    }
   ],
   "source": [
    "n_female = len(metadata_firstYear[metadata_firstYear[\"Sex\"]=='F'])\n",
    "n_male = len(metadata_firstYear[metadata_firstYear[\"Sex\"]=='M'])\n",
    "plt.pie([n_male,n_female], labels=['Male','Female'],autopct='%.0f%%')\n",
    "plt.show()"
   ]
  },
  {
   "cell_type": "markdown",
   "metadata": {},
   "source": [
    "How many subjects are Parkinson's disease patients and how many are healthy controls"
   ]
  },
  {
   "cell_type": "code",
   "execution_count": 70,
   "metadata": {},
   "outputs": [
    {
     "data": {
      "image/png": "[encoded data removed]",
      "text/plain": [
       "<matplotlib.figure.Figure at 0x11a3753c8>"
      ]
     },
     "metadata": {},
     "output_type": "display_data"
    }
   ],
   "source": [
    "n_PD = len(metadata_firstYear[metadata_firstYear[\"Group\"]=='PD'])\n",
    "n_Control = len(metadata_firstYear[metadata_firstYear[\"Group\"]=='Control'])\n",
    "plt.pie([n_PD,n_Control], labels=['PD Patient','Control'], autopct='%.0f%%')\n",
    "plt.show()"
   ]
  },
  {
   "cell_type": "markdown",
   "metadata": {},
   "source": [
    "Check if the age distribution between healthy and PD patients any different"
   ]
  },
  {
   "cell_type": "code",
   "execution_count": 79,
   "metadata": {},
   "outputs": [
    {
     "data": {
      "image/png": "[encoded data removed]",
      "text/plain": [
       "<matplotlib.figure.Figure at 0x1198d6710>"
      ]
     },
     "metadata": {},
     "output_type": "display_data"
    }
   ],
   "source": [
    "plt.hist(metadata_firstYear[metadata_firstYear[\"Group\"]=='PD']['Age'],bins=25,label='PD patient')\n",
    "plt.hist(metadata_firstYear[metadata_firstYear[\"Group\"]=='Control']['Age'],bins=25, label='Control')\n",
    "plt.legend()\n",
    "plt.show()"
   ]
  },
  {
   "cell_type": "markdown",
   "metadata": {},
   "source": [
    "How about age difference between female and male patients"
   ]
  },
  {
   "cell_type": "code",
   "execution_count": 93,
   "metadata": {},
   "outputs": [
    {
     "data": {
      "image/png": "[encoded data removed]",
      "text/plain": [
       "<matplotlib.figure.Figure at 0x119d01748>"
      ]
     },
     "metadata": {},
     "output_type": "display_data"
    }
   ],
   "source": [
    "plt.hist(metadata_firstYear[(metadata_firstYear[\"Group\"]=='PD') & (metadata_firstYear[\"Sex\"]=='M')]['Age'],bins=25,label='Male PD patient')\n",
    "plt.hist(metadata_firstYear[(metadata_firstYear[\"Group\"]=='PD') & (metadata_firstYear[\"Sex\"]=='F')]['Age'],bins=25,label='Female PD patient')\n",
    "plt.legend()\n",
    "plt.show()"
   ]
  },
  {
   "cell_type": "markdown",
   "metadata": {},
   "source": [
    "Overall the dataset seems to be well balanced in age but there are considerable more men than women. This might be caused by the fact that males are more often affected than females"
   ]
  },
  {
   "cell_type": "code",
   "execution_count": null,
   "metadata": {
    "collapsed": true
   },
   "outputs": [],
   "source": []
  }
 ],
 "metadata": {
  "kernelspec": {
   "display_name": "Python [default]",
   "language": "python",
   "name": "python3"
  },
  "language_info": {
   "codemirror_mode": {
    "name": "ipython",
    "version": 3
   },
   "file_extension": ".py",
   "mimetype": "text/x-python",
   "name": "python",
   "nbconvert_exporter": "python",
   "pygments_lexer": "ipython3",
   "version": "3.6.1"
  }
 },
 "nbformat": 4,
 "nbformat_minor": 2
}
